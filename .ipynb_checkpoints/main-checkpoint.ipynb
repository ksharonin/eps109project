{
 "cells": [
  {
   "cell_type": "markdown",
   "id": "40f237d6-3db9-4596-bf74-d572c025c639",
   "metadata": {},
   "source": [
    "# Resolution Matcher: A Self-Simplifying Program for Fire Perimeters\n",
    "\n",
    "- Topic: Wildfire Perimeter mapping; satellite versus aircraft instrument observations\n",
    "- Goals:\n",
    "    - Of interest to wildfire researchers is to find a way to quantify how much “simpler” satellite fire perimeter estimates are from aircraft observations\n",
    "    - While it could be possible to just take the resolution of the two products, intricacies such as swath angle, tilt, and varying topography impact the resolution of each product\n",
    "    - Ultimate goal: produce a program that given a “truth” polygon and “estimate” polygon, recursively optimizes the “estimate” polygon to be the closest match to the “truth”. Outside of typical shape algorithms, apply extra factors such as topography, fuel type, etc to influence the final shape\n",
    "    - Topography, fuel type, and average weather behavior have an extreme influence on fire behavior; being able to lay over datasets and possibly predict corrections could help adjust future satellite products\n"
   ]
  },
  {
   "cell_type": "markdown",
   "id": "09a39c5d-c47f-458b-b1b8-756bbf2ce213",
   "metadata": {},
   "source": [
    "## About the Data\n",
    "\n",
    "- NASA FEDS Archived\n",
    "- NIFC Archived \n",
    "\n",
    "## About the files\n",
    "- `main.ipynb`: this is the key file that demonstrates the project workflow\n",
    "- `api_access.py`: all functions managing api access \n",
    "- `calculations.py`: all functions for polygon calculations\n",
    "- "
   ]
  },
  {
   "cell_type": "code",
   "execution_count": 1,
   "id": "51a5a54d-0a78-4d5f-84b2-7f1dfa81af88",
   "metadata": {
    "tags": []
   },
   "outputs": [],
   "source": [
    "# TODO fill in blocks\n",
    "\n",
    "# selected fires for study \n",
    "# kincade \n",
    "# paradise\n"
   ]
  },
  {
   "cell_type": "markdown",
   "id": "18052faa-03d1-4963-bed6-fc485f1bd94a",
   "metadata": {},
   "source": [
    "# Part 1: API data access "
   ]
  },
  {
   "cell_type": "code",
   "execution_count": 3,
   "id": "64e23b82-8a05-4b7c-aa70-27ac29764abd",
   "metadata": {
    "tags": []
   },
   "outputs": [],
   "source": [
    "# TODO"
   ]
  },
  {
   "cell_type": "markdown",
   "id": "a1633897-5ef1-4c95-a4ad-92a4157da3d6",
   "metadata": {},
   "source": [
    "# Part 2: Pre-process Data + prepare overlay "
   ]
  },
  {
   "cell_type": "code",
   "execution_count": null,
   "id": "d02ef69a-b462-4e25-adfb-02194b1e345e",
   "metadata": {},
   "outputs": [],
   "source": []
  },
  {
   "cell_type": "markdown",
   "id": "7a06ac9f-694a-4d15-9fa4-791f575b2ef3",
   "metadata": {},
   "source": [
    "# Part 3: Simplification per fire; find best match\n",
    "\n",
    "For every pair of fires, run best-simplification algorithm.\n",
    "Basic plan; keep simplifying and track previous results for two generations. As soon as results degrade two times in a row, go back two times and declare the best version"
   ]
  },
  {
   "cell_type": "code",
   "execution_count": 4,
   "id": "7ad5d178-2993-432b-a316-0fc24c8fc0f1",
   "metadata": {
    "tags": []
   },
   "outputs": [],
   "source": [
    "#TODO"
   ]
  },
  {
   "cell_type": "markdown",
   "id": "ba4f3707-c645-431e-bede-75a4b7372254",
   "metadata": {
    "tags": []
   },
   "source": [
    "# Part 4: With best simplification, track raster data for fire\n",
    "\n",
    "Selected datasets to track (static). Reasoning per each set is based on the rothermel model\n",
    "- Top count of 40 fuel models / median (? best datascience approach?) https://gacc.nifc.gov/oncc/docs/40-Standard%20Fire%20Behavior%20Fuel%20Models.pdf \n",
    "- Average/median slope\n",
    "- Fuel loading model LANDFIRE: https://www.landfire.gov/flm.php\n",
    "- More advanced (likely too far; forecast of the day -> use wind, temperature, and relative humidity)"
   ]
  },
  {
   "cell_type": "code",
   "execution_count": null,
   "id": "ba398b7d-2c2a-4ae8-8a24-9873893362f7",
   "metadata": {},
   "outputs": [],
   "source": [
    "# TODO"
   ]
  },
  {
   "cell_type": "markdown",
   "id": "31a4a6ea-12b4-404f-bba7-fc43251dbb2e",
   "metadata": {},
   "source": [
    "# Part 5: Calculate potential correlations/output plots "
   ]
  },
  {
   "cell_type": "code",
   "execution_count": 5,
   "id": "aabe0bf3-c2f9-4aad-8d38-27eeca0b761d",
   "metadata": {
    "tags": []
   },
   "outputs": [],
   "source": [
    "# TODO"
   ]
  },
  {
   "cell_type": "markdown",
   "id": "6eed404b-a018-45c2-b813-d78ec4dda171",
   "metadata": {},
   "source": [
    "# Part 6: Conclusion "
   ]
  },
  {
   "cell_type": "code",
   "execution_count": null,
   "id": "2ed3b6c3-950e-4e98-b487-c43a1d8b6ae4",
   "metadata": {},
   "outputs": [],
   "source": []
  }
 ],
 "metadata": {
  "kernelspec": {
   "display_name": "Python 3 (ipykernel)",
   "language": "python",
   "name": "python3"
  },
  "language_info": {
   "codemirror_mode": {
    "name": "ipython",
    "version": 3
   },
   "file_extension": ".py",
   "mimetype": "text/x-python",
   "name": "python",
   "nbconvert_exporter": "python",
   "pygments_lexer": "ipython3",
   "version": "3.10.8"
  }
 },
 "nbformat": 4,
 "nbformat_minor": 5
}
